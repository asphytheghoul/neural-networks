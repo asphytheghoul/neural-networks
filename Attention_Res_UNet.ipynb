{
 "cells": [
  {
   "cell_type": "markdown",
   "id": "16030d16",
   "metadata": {},
   "source": [
    "## 1. Import Modules"
   ]
  },
  {
   "cell_type": "code",
   "execution_count": 1,
   "id": "1dac1237",
   "metadata": {},
   "outputs": [],
   "source": [
    "import os\n",
    "import numpy as np\n",
    "from matplotlib import pyplot as plt\n",
    "from tensorflow.keras.optimizers import Adam\n",
    "import tensorflow as tf\n",
    "from datetime import datetime \n",
    "import cv2\n",
    "from PIL import Image\n",
    "from keras import backend, optimizers\n",
    "from tensorflow.keras import models, layers, regularizers\n",
    "from tensorflow.keras import backend as K\n",
    "from tensorflow.keras.metrics import MeanIoU\n",
    "import pandas as pd    \n",
    "import random\n",
    "import numpy as np"
   ]
  },
  {
   "cell_type": "markdown",
   "id": "a6eaf7f5",
   "metadata": {},
   "source": [
    "## 2. Metrics and Losses"
   ]
  },
  {
   "cell_type": "code",
   "execution_count": 2,
   "id": "64283598",
   "metadata": {},
   "outputs": [],
   "source": [
    "def dice_coef(y_true, y_pred):\n",
    "    y_true_f = K.flatten(y_true)\n",
    "    y_pred_f = K.flatten(y_pred)\n",
    "    intersection = K.sum(y_true_f * y_pred_f)\n",
    "    return (2.0 * intersection + 1.0) / (K.sum(y_true_f) + K.sum(y_pred_f) + 1.0)\n",
    "\n",
    "\n",
    "def jacard_coef(y_true, y_pred):\n",
    "    y_true_f = K.flatten(y_true)\n",
    "    y_pred_f = K.flatten(y_pred)\n",
    "    intersection = K.sum(y_true_f * y_pred_f)\n",
    "    return (intersection + 1.0) / (K.sum(y_true_f) + K.sum(y_pred_f) - intersection + 1.0)\n",
    "\n",
    "\n",
    "def jacard_coef_loss(y_true, y_pred):\n",
    "    return -jacard_coef(y_true, y_pred)\n",
    "\n",
    "\n",
    "def dice_coef_loss(y_true, y_pred):\n",
    "    return -dice_coef(y_true, y_pred)"
   ]
  },
  {
   "cell_type": "markdown",
   "id": "7882cbef",
   "metadata": {},
   "source": [
    "## 3. Keras model and helper functions"
   ]
  },
  {
   "cell_type": "code",
   "execution_count": 3,
   "id": "a35828fa",
   "metadata": {},
   "outputs": [],
   "source": [
    "def conv_block(x, filter_size, size, dropout, batch_norm=False):\n",
    "    \n",
    "    conv = layers.Conv2D(size, (filter_size, filter_size), padding=\"same\")(x)\n",
    "    if batch_norm is True:\n",
    "        conv = layers.BatchNormalization(axis=3)(conv)\n",
    "    conv = layers.Activation(\"relu\")(conv)\n",
    "\n",
    "    conv = layers.Conv2D(size, (filter_size, filter_size), padding=\"same\")(conv)\n",
    "    if batch_norm is True:\n",
    "        conv = layers.BatchNormalization(axis=3)(conv)\n",
    "    conv = layers.Activation(\"relu\")(conv)\n",
    "    \n",
    "    if dropout > 0:\n",
    "        conv = layers.Dropout(dropout)(conv)\n",
    "\n",
    "    return conv"
   ]
  },
  {
   "cell_type": "code",
   "execution_count": 4,
   "id": "793ea978",
   "metadata": {},
   "outputs": [],
   "source": [
    "def repeat_elem(tensor, rep):\n",
    "    # lambda function to repeat Repeats the elements of a tensor along an axis\n",
    "    #by a factor of rep.\n",
    "    # If tensor has shape (None, 256,256,3), lambda will return a tensor of shape \n",
    "    #(None, 256,256,6), if specified axis=3 and rep=2.\n",
    "\n",
    "     return layers.Lambda(lambda x, repnum: K.repeat_elements(x, repnum, axis=3),\n",
    "                          arguments={'repnum': rep})(tensor)"
   ]
  },
  {
   "cell_type": "code",
   "execution_count": 5,
   "id": "0540d9d4",
   "metadata": {},
   "outputs": [],
   "source": [
    "def res_conv_block(x, filter_size, size, dropout, batch_norm=False):\n",
    "    '''\n",
    "    Residual convolutional layer.\n",
    "    Two variants....\n",
    "    Either put activation function before the addition with shortcut\n",
    "    or after the addition (which would be as proposed in the original resNet).\n",
    "    \n",
    "    1. conv - BN - Activation - conv - BN - Activation \n",
    "                                          - shortcut  - BN - shortcut+BN\n",
    "                                          \n",
    "    2. conv - BN - Activation - conv - BN   \n",
    "                                     - shortcut  - BN - shortcut+BN - Activation                                     \n",
    "    \n",
    "    Check fig 4 in https://arxiv.org/ftp/arxiv/papers/1802/1802.06955.pdf\n",
    "    '''\n",
    "\n",
    "    conv = layers.Conv2D(size, (filter_size, filter_size), padding='same')(x)\n",
    "    if batch_norm is True:\n",
    "        conv = layers.BatchNormalization(axis=3)(conv)\n",
    "    conv = layers.Activation('relu')(conv)\n",
    "    \n",
    "    conv = layers.Conv2D(size, (filter_size, filter_size), padding='same')(conv)\n",
    "    if batch_norm is True:\n",
    "        conv = layers.BatchNormalization(axis=3)(conv)\n",
    "    #conv = layers.Activation('relu')(conv)    #Activation before addition with shortcut\n",
    "    if dropout > 0:\n",
    "        conv = layers.Dropout(dropout)(conv)\n",
    "\n",
    "    shortcut = layers.Conv2D(size, kernel_size=(1, 1), padding='same')(x)\n",
    "    if batch_norm is True:\n",
    "        shortcut = layers.BatchNormalization(axis=3)(shortcut)\n",
    "\n",
    "    res_path = layers.add([shortcut, conv])\n",
    "    res_path = layers.Activation('relu')(res_path)    #Activation after addition with shortcut (Original residual block)\n",
    "    return res_path"
   ]
  },
  {
   "cell_type": "code",
   "execution_count": 6,
   "id": "537debcf",
   "metadata": {},
   "outputs": [],
   "source": [
    "def gating_signal(input, out_size, batch_norm=False):\n",
    "    \"\"\"\n",
    "    resize the down layer feature map into the same dimension as the up layer feature map\n",
    "    using 1x1 conv\n",
    "    :return: the gating feature map with the same dimension of the up layer feature map\n",
    "    \"\"\"\n",
    "    x = layers.Conv2D(out_size, (1, 1), padding='same')(input)\n",
    "    if batch_norm:\n",
    "        x = layers.BatchNormalization()(x)\n",
    "    x = layers.Activation('relu')(x)\n",
    "    return x"
   ]
  },
  {
   "cell_type": "code",
   "execution_count": 7,
   "id": "17fb5b62",
   "metadata": {},
   "outputs": [],
   "source": [
    "def attention_block(x, gating, inter_shape):\n",
    "    shape_x = K.int_shape(x)\n",
    "    shape_g = K.int_shape(gating)\n",
    "\n",
    "# Getting the x signal to the same shape as the gating signal\n",
    "    theta_x = layers.Conv2D(inter_shape, (2, 2), strides=(2, 2), padding='same')(x)  # 16\n",
    "    shape_theta_x = K.int_shape(theta_x)\n",
    "\n",
    "# Getting the gating signal to the same number of filters as the inter_shape\n",
    "    phi_g = layers.Conv2D(inter_shape, (1, 1), padding='same')(gating)\n",
    "    upsample_g = layers.Conv2DTranspose(inter_shape, (3, 3),\n",
    "                                 strides=(shape_theta_x[1] // shape_g[1], shape_theta_x[2] // shape_g[2]),\n",
    "                                 padding='same')(phi_g)  # 16\n",
    "\n",
    "    concat_xg = layers.add([upsample_g, theta_x])\n",
    "    act_xg = layers.Activation('relu')(concat_xg)\n",
    "    psi = layers.Conv2D(1, (1, 1), padding='same')(act_xg)\n",
    "    sigmoid_xg = layers.Activation('sigmoid')(psi)\n",
    "    shape_sigmoid = K.int_shape(sigmoid_xg)\n",
    "    upsample_psi = layers.UpSampling2D(size=(shape_x[1] // shape_sigmoid[1], shape_x[2] // shape_sigmoid[2]))(sigmoid_xg)  # 32\n",
    "\n",
    "    upsample_psi = repeat_elem(upsample_psi, shape_x[3])\n",
    "\n",
    "    y = layers.multiply([upsample_psi, x])\n",
    "\n",
    "    result = layers.Conv2D(shape_x[3], (1, 1), padding='same')(y)\n",
    "    result_bn = layers.BatchNormalization()(result)\n",
    "    return result_bn"
   ]
  },
  {
   "cell_type": "code",
   "execution_count": 8,
   "id": "661af29b",
   "metadata": {},
   "outputs": [],
   "source": [
    "def Attention_ResUNet(input_shape, NUM_CLASSES=1, dropout_rate=0.0, batch_norm=True):\n",
    "    '''\n",
    "    Rsidual UNet, with attention \n",
    "    \n",
    "    '''\n",
    "    # network structure\n",
    "    FILTER_NUM = 64 # number of basic filters for the first layer\n",
    "    FILTER_SIZE = 3 # size of the convolutional filter\n",
    "    UP_SAMP_SIZE = 2 # size of upsampling filters\n",
    "    # input data\n",
    "    # dimension of the image depth\n",
    "    inputs = layers.Input(input_shape, dtype=tf.float32)\n",
    "    axis = 3\n",
    "\n",
    "    # Downsampling layers\n",
    "    # DownRes 1, double residual convolution + pooling\n",
    "    conv_128 = res_conv_block(inputs, FILTER_SIZE, FILTER_NUM, dropout_rate, batch_norm)\n",
    "    pool_64 = layers.MaxPooling2D(pool_size=(2,2))(conv_128)\n",
    "    # DownRes 2\n",
    "    conv_64 = res_conv_block(pool_64, FILTER_SIZE, 2*FILTER_NUM, dropout_rate, batch_norm)\n",
    "    pool_32 = layers.MaxPooling2D(pool_size=(2,2))(conv_64)\n",
    "    # DownRes 3\n",
    "    conv_32 = res_conv_block(pool_32, FILTER_SIZE, 4*FILTER_NUM, dropout_rate, batch_norm)\n",
    "    pool_16 = layers.MaxPooling2D(pool_size=(2,2))(conv_32)\n",
    "    # DownRes 4\n",
    "    conv_16 = res_conv_block(pool_16, FILTER_SIZE, 8*FILTER_NUM, dropout_rate, batch_norm)\n",
    "    \n",
    "#     pool_8 = layers.MaxPooling2D(pool_size=(2,2))(conv_16)\n",
    "#     # DownRes 5, convolution only\n",
    "#     conv_8 = res_conv_block(pool_8, FILTER_SIZE, 16*FILTER_NUM, dropout_rate, batch_norm)\n",
    "\n",
    "#     # Upsampling layers\n",
    "#     # UpRes 6, attention gated concatenation + upsampling + double residual convolution\n",
    "#     gating_16 = gating_signal(conv_8, 8*FILTER_NUM, batch_norm)\n",
    "#     att_16 = attention_block(conv_16, gating_16, 8*FILTER_NUM)\n",
    "#     up_16 = layers.UpSampling2D(size=(UP_SAMP_SIZE, UP_SAMP_SIZE), data_format=\"channels_last\")(conv_8)\n",
    "#     up_16 = layers.concatenate([up_16, att_16], axis=axis)\n",
    "#     up_conv_16 = res_conv_block(up_16, FILTER_SIZE, 8*FILTER_NUM, dropout_rate, batch_norm)\n",
    "    # UpRes 7\n",
    "    \n",
    "    gating_32 = gating_signal(conv_16, 4*FILTER_NUM, batch_norm)\n",
    "    att_32 = attention_block(conv_32, gating_32, 4*FILTER_NUM)\n",
    "    up_32 = layers.UpSampling2D(size=(UP_SAMP_SIZE, UP_SAMP_SIZE), data_format=\"channels_last\")(conv_16)\n",
    "    up_32 = layers.concatenate([up_32, att_32], axis=axis)\n",
    "    up_conv_32 = res_conv_block(up_32, FILTER_SIZE, 4*FILTER_NUM, dropout_rate, batch_norm)\n",
    "    # UpRes 8\n",
    "    gating_64 = gating_signal(up_conv_32, 2*FILTER_NUM, batch_norm)\n",
    "    att_64 = attention_block(conv_64, gating_64, 2*FILTER_NUM)\n",
    "    up_64 = layers.UpSampling2D(size=(UP_SAMP_SIZE, UP_SAMP_SIZE), data_format=\"channels_last\")(up_conv_32)\n",
    "    up_64 = layers.concatenate([up_64, att_64], axis=axis)\n",
    "    up_conv_64 = res_conv_block(up_64, FILTER_SIZE, 2*FILTER_NUM, dropout_rate, batch_norm)\n",
    "    # UpRes 9\n",
    "    gating_128 = gating_signal(up_conv_64, FILTER_NUM, batch_norm)\n",
    "    att_128 = attention_block(conv_128, gating_128, FILTER_NUM)\n",
    "    up_128 = layers.UpSampling2D(size=(UP_SAMP_SIZE, UP_SAMP_SIZE), data_format=\"channels_last\")(up_conv_64)\n",
    "    up_128 = layers.concatenate([up_128, att_128], axis=axis)\n",
    "    up_conv_128 = res_conv_block(up_128, FILTER_SIZE, FILTER_NUM, dropout_rate, batch_norm)\n",
    "\n",
    "    # 1*1 convolutional layers\n",
    "    \n",
    "    conv_final = layers.Conv2D(NUM_CLASSES, kernel_size=(1,1))(up_conv_128)\n",
    "    conv_final = layers.BatchNormalization(axis=axis)(conv_final)\n",
    "    conv_final = layers.Activation('sigmoid')(conv_final)  #Change to softmax for multichannel\n",
    "\n",
    "    # Model integration\n",
    "    model = models.Model(inputs, conv_final, name=\"AttentionResUNet\")\n",
    "    return model"
   ]
  },
  {
   "cell_type": "code",
   "execution_count": 9,
   "id": "8fe3b1b0",
   "metadata": {},
   "outputs": [],
   "source": [
    "input_shape = (64, 64, 3)\n",
    "model = Attention_ResUNet(input_shape)"
   ]
  },
  {
   "cell_type": "code",
   "execution_count": 10,
   "id": "b86bcfdc",
   "metadata": {},
   "outputs": [
    {
     "name": "stdout",
     "output_type": "stream",
     "text": [
      "Model: \"AttentionResUNet\"\n",
      "__________________________________________________________________________________________________\n",
      "Layer (type)                    Output Shape         Param #     Connected to                     \n",
      "==================================================================================================\n",
      "input_1 (InputLayer)            [(None, 64, 64, 3)]  0                                            \n",
      "__________________________________________________________________________________________________\n",
      "conv2d (Conv2D)                 (None, 64, 64, 64)   1792        input_1[0][0]                    \n",
      "__________________________________________________________________________________________________\n",
      "batch_normalization (BatchNorma (None, 64, 64, 64)   256         conv2d[0][0]                     \n",
      "__________________________________________________________________________________________________\n",
      "activation (Activation)         (None, 64, 64, 64)   0           batch_normalization[0][0]        \n",
      "__________________________________________________________________________________________________\n",
      "conv2d_2 (Conv2D)               (None, 64, 64, 64)   256         input_1[0][0]                    \n",
      "__________________________________________________________________________________________________\n",
      "conv2d_1 (Conv2D)               (None, 64, 64, 64)   36928       activation[0][0]                 \n",
      "__________________________________________________________________________________________________\n",
      "batch_normalization_2 (BatchNor (None, 64, 64, 64)   256         conv2d_2[0][0]                   \n",
      "__________________________________________________________________________________________________\n",
      "batch_normalization_1 (BatchNor (None, 64, 64, 64)   256         conv2d_1[0][0]                   \n",
      "__________________________________________________________________________________________________\n",
      "add (Add)                       (None, 64, 64, 64)   0           batch_normalization_2[0][0]      \n",
      "                                                                 batch_normalization_1[0][0]      \n",
      "__________________________________________________________________________________________________\n",
      "activation_1 (Activation)       (None, 64, 64, 64)   0           add[0][0]                        \n",
      "__________________________________________________________________________________________________\n",
      "max_pooling2d (MaxPooling2D)    (None, 32, 32, 64)   0           activation_1[0][0]               \n",
      "__________________________________________________________________________________________________\n",
      "conv2d_3 (Conv2D)               (None, 32, 32, 128)  73856       max_pooling2d[0][0]              \n",
      "__________________________________________________________________________________________________\n",
      "batch_normalization_3 (BatchNor (None, 32, 32, 128)  512         conv2d_3[0][0]                   \n",
      "__________________________________________________________________________________________________\n",
      "activation_2 (Activation)       (None, 32, 32, 128)  0           batch_normalization_3[0][0]      \n",
      "__________________________________________________________________________________________________\n",
      "conv2d_5 (Conv2D)               (None, 32, 32, 128)  8320        max_pooling2d[0][0]              \n",
      "__________________________________________________________________________________________________\n",
      "conv2d_4 (Conv2D)               (None, 32, 32, 128)  147584      activation_2[0][0]               \n",
      "__________________________________________________________________________________________________\n",
      "batch_normalization_5 (BatchNor (None, 32, 32, 128)  512         conv2d_5[0][0]                   \n",
      "__________________________________________________________________________________________________\n",
      "batch_normalization_4 (BatchNor (None, 32, 32, 128)  512         conv2d_4[0][0]                   \n",
      "__________________________________________________________________________________________________\n",
      "add_1 (Add)                     (None, 32, 32, 128)  0           batch_normalization_5[0][0]      \n",
      "                                                                 batch_normalization_4[0][0]      \n",
      "__________________________________________________________________________________________________\n",
      "activation_3 (Activation)       (None, 32, 32, 128)  0           add_1[0][0]                      \n",
      "__________________________________________________________________________________________________\n",
      "max_pooling2d_1 (MaxPooling2D)  (None, 16, 16, 128)  0           activation_3[0][0]               \n",
      "__________________________________________________________________________________________________\n",
      "conv2d_6 (Conv2D)               (None, 16, 16, 256)  295168      max_pooling2d_1[0][0]            \n",
      "__________________________________________________________________________________________________\n",
      "batch_normalization_6 (BatchNor (None, 16, 16, 256)  1024        conv2d_6[0][0]                   \n",
      "__________________________________________________________________________________________________\n",
      "activation_4 (Activation)       (None, 16, 16, 256)  0           batch_normalization_6[0][0]      \n",
      "__________________________________________________________________________________________________\n",
      "conv2d_8 (Conv2D)               (None, 16, 16, 256)  33024       max_pooling2d_1[0][0]            \n",
      "__________________________________________________________________________________________________\n",
      "conv2d_7 (Conv2D)               (None, 16, 16, 256)  590080      activation_4[0][0]               \n",
      "__________________________________________________________________________________________________\n",
      "batch_normalization_8 (BatchNor (None, 16, 16, 256)  1024        conv2d_8[0][0]                   \n",
      "__________________________________________________________________________________________________\n",
      "batch_normalization_7 (BatchNor (None, 16, 16, 256)  1024        conv2d_7[0][0]                   \n",
      "__________________________________________________________________________________________________\n",
      "add_2 (Add)                     (None, 16, 16, 256)  0           batch_normalization_8[0][0]      \n",
      "                                                                 batch_normalization_7[0][0]      \n",
      "__________________________________________________________________________________________________\n",
      "activation_5 (Activation)       (None, 16, 16, 256)  0           add_2[0][0]                      \n",
      "__________________________________________________________________________________________________\n",
      "max_pooling2d_2 (MaxPooling2D)  (None, 8, 8, 256)    0           activation_5[0][0]               \n",
      "__________________________________________________________________________________________________\n",
      "conv2d_9 (Conv2D)               (None, 8, 8, 512)    1180160     max_pooling2d_2[0][0]            \n",
      "__________________________________________________________________________________________________\n",
      "batch_normalization_9 (BatchNor (None, 8, 8, 512)    2048        conv2d_9[0][0]                   \n",
      "__________________________________________________________________________________________________\n",
      "activation_6 (Activation)       (None, 8, 8, 512)    0           batch_normalization_9[0][0]      \n",
      "__________________________________________________________________________________________________\n",
      "conv2d_11 (Conv2D)              (None, 8, 8, 512)    131584      max_pooling2d_2[0][0]            \n",
      "__________________________________________________________________________________________________\n",
      "conv2d_10 (Conv2D)              (None, 8, 8, 512)    2359808     activation_6[0][0]               \n",
      "__________________________________________________________________________________________________\n",
      "batch_normalization_11 (BatchNo (None, 8, 8, 512)    2048        conv2d_11[0][0]                  \n",
      "__________________________________________________________________________________________________\n",
      "batch_normalization_10 (BatchNo (None, 8, 8, 512)    2048        conv2d_10[0][0]                  \n",
      "__________________________________________________________________________________________________\n",
      "add_3 (Add)                     (None, 8, 8, 512)    0           batch_normalization_11[0][0]     \n",
      "                                                                 batch_normalization_10[0][0]     \n",
      "__________________________________________________________________________________________________\n",
      "activation_7 (Activation)       (None, 8, 8, 512)    0           add_3[0][0]                      \n",
      "__________________________________________________________________________________________________\n",
      "conv2d_12 (Conv2D)              (None, 8, 8, 256)    131328      activation_7[0][0]               \n",
      "__________________________________________________________________________________________________\n",
      "batch_normalization_12 (BatchNo (None, 8, 8, 256)    1024        conv2d_12[0][0]                  \n",
      "__________________________________________________________________________________________________\n",
      "activation_8 (Activation)       (None, 8, 8, 256)    0           batch_normalization_12[0][0]     \n",
      "__________________________________________________________________________________________________\n",
      "conv2d_14 (Conv2D)              (None, 8, 8, 256)    65792       activation_8[0][0]               \n",
      "__________________________________________________________________________________________________\n",
      "conv2d_transpose (Conv2DTranspo (None, 8, 8, 256)    590080      conv2d_14[0][0]                  \n",
      "__________________________________________________________________________________________________\n",
      "conv2d_13 (Conv2D)              (None, 8, 8, 256)    262400      activation_5[0][0]               \n",
      "__________________________________________________________________________________________________\n",
      "add_4 (Add)                     (None, 8, 8, 256)    0           conv2d_transpose[0][0]           \n",
      "                                                                 conv2d_13[0][0]                  \n",
      "__________________________________________________________________________________________________\n",
      "activation_9 (Activation)       (None, 8, 8, 256)    0           add_4[0][0]                      \n",
      "__________________________________________________________________________________________________\n",
      "conv2d_15 (Conv2D)              (None, 8, 8, 1)      257         activation_9[0][0]               \n",
      "__________________________________________________________________________________________________\n",
      "activation_10 (Activation)      (None, 8, 8, 1)      0           conv2d_15[0][0]                  \n",
      "__________________________________________________________________________________________________\n",
      "up_sampling2d (UpSampling2D)    (None, 16, 16, 1)    0           activation_10[0][0]              \n",
      "__________________________________________________________________________________________________\n",
      "lambda (Lambda)                 (None, 16, 16, 256)  0           up_sampling2d[0][0]              \n",
      "__________________________________________________________________________________________________\n",
      "multiply (Multiply)             (None, 16, 16, 256)  0           lambda[0][0]                     \n",
      "                                                                 activation_5[0][0]               \n",
      "__________________________________________________________________________________________________\n",
      "conv2d_16 (Conv2D)              (None, 16, 16, 256)  65792       multiply[0][0]                   \n",
      "__________________________________________________________________________________________________\n",
      "up_sampling2d_1 (UpSampling2D)  (None, 16, 16, 512)  0           activation_7[0][0]               \n",
      "__________________________________________________________________________________________________\n",
      "batch_normalization_13 (BatchNo (None, 16, 16, 256)  1024        conv2d_16[0][0]                  \n",
      "__________________________________________________________________________________________________\n",
      "concatenate (Concatenate)       (None, 16, 16, 768)  0           up_sampling2d_1[0][0]            \n",
      "                                                                 batch_normalization_13[0][0]     \n",
      "__________________________________________________________________________________________________\n",
      "conv2d_17 (Conv2D)              (None, 16, 16, 256)  1769728     concatenate[0][0]                \n",
      "__________________________________________________________________________________________________\n",
      "batch_normalization_14 (BatchNo (None, 16, 16, 256)  1024        conv2d_17[0][0]                  \n",
      "__________________________________________________________________________________________________\n",
      "activation_11 (Activation)      (None, 16, 16, 256)  0           batch_normalization_14[0][0]     \n",
      "__________________________________________________________________________________________________\n",
      "conv2d_19 (Conv2D)              (None, 16, 16, 256)  196864      concatenate[0][0]                \n",
      "__________________________________________________________________________________________________\n",
      "conv2d_18 (Conv2D)              (None, 16, 16, 256)  590080      activation_11[0][0]              \n",
      "__________________________________________________________________________________________________\n",
      "batch_normalization_16 (BatchNo (None, 16, 16, 256)  1024        conv2d_19[0][0]                  \n",
      "__________________________________________________________________________________________________\n",
      "batch_normalization_15 (BatchNo (None, 16, 16, 256)  1024        conv2d_18[0][0]                  \n",
      "__________________________________________________________________________________________________\n",
      "add_5 (Add)                     (None, 16, 16, 256)  0           batch_normalization_16[0][0]     \n",
      "                                                                 batch_normalization_15[0][0]     \n",
      "__________________________________________________________________________________________________\n",
      "activation_12 (Activation)      (None, 16, 16, 256)  0           add_5[0][0]                      \n",
      "__________________________________________________________________________________________________\n",
      "conv2d_20 (Conv2D)              (None, 16, 16, 128)  32896       activation_12[0][0]              \n",
      "__________________________________________________________________________________________________\n",
      "batch_normalization_17 (BatchNo (None, 16, 16, 128)  512         conv2d_20[0][0]                  \n",
      "__________________________________________________________________________________________________\n",
      "activation_13 (Activation)      (None, 16, 16, 128)  0           batch_normalization_17[0][0]     \n",
      "__________________________________________________________________________________________________\n",
      "conv2d_22 (Conv2D)              (None, 16, 16, 128)  16512       activation_13[0][0]              \n",
      "__________________________________________________________________________________________________\n",
      "conv2d_transpose_1 (Conv2DTrans (None, 16, 16, 128)  147584      conv2d_22[0][0]                  \n",
      "__________________________________________________________________________________________________\n",
      "conv2d_21 (Conv2D)              (None, 16, 16, 128)  65664       activation_3[0][0]               \n",
      "__________________________________________________________________________________________________\n",
      "add_6 (Add)                     (None, 16, 16, 128)  0           conv2d_transpose_1[0][0]         \n",
      "                                                                 conv2d_21[0][0]                  \n",
      "__________________________________________________________________________________________________\n",
      "activation_14 (Activation)      (None, 16, 16, 128)  0           add_6[0][0]                      \n",
      "__________________________________________________________________________________________________\n",
      "conv2d_23 (Conv2D)              (None, 16, 16, 1)    129         activation_14[0][0]              \n",
      "__________________________________________________________________________________________________\n",
      "activation_15 (Activation)      (None, 16, 16, 1)    0           conv2d_23[0][0]                  \n",
      "__________________________________________________________________________________________________\n",
      "up_sampling2d_2 (UpSampling2D)  (None, 32, 32, 1)    0           activation_15[0][0]              \n",
      "__________________________________________________________________________________________________\n",
      "lambda_1 (Lambda)               (None, 32, 32, 128)  0           up_sampling2d_2[0][0]            \n",
      "__________________________________________________________________________________________________\n",
      "multiply_1 (Multiply)           (None, 32, 32, 128)  0           lambda_1[0][0]                   \n",
      "                                                                 activation_3[0][0]               \n",
      "__________________________________________________________________________________________________\n",
      "conv2d_24 (Conv2D)              (None, 32, 32, 128)  16512       multiply_1[0][0]                 \n",
      "__________________________________________________________________________________________________\n",
      "up_sampling2d_3 (UpSampling2D)  (None, 32, 32, 256)  0           activation_12[0][0]              \n",
      "__________________________________________________________________________________________________\n",
      "batch_normalization_18 (BatchNo (None, 32, 32, 128)  512         conv2d_24[0][0]                  \n",
      "__________________________________________________________________________________________________\n",
      "concatenate_1 (Concatenate)     (None, 32, 32, 384)  0           up_sampling2d_3[0][0]            \n",
      "                                                                 batch_normalization_18[0][0]     \n",
      "__________________________________________________________________________________________________\n",
      "conv2d_25 (Conv2D)              (None, 32, 32, 128)  442496      concatenate_1[0][0]              \n",
      "__________________________________________________________________________________________________\n",
      "batch_normalization_19 (BatchNo (None, 32, 32, 128)  512         conv2d_25[0][0]                  \n",
      "__________________________________________________________________________________________________\n",
      "activation_16 (Activation)      (None, 32, 32, 128)  0           batch_normalization_19[0][0]     \n",
      "__________________________________________________________________________________________________\n",
      "conv2d_27 (Conv2D)              (None, 32, 32, 128)  49280       concatenate_1[0][0]              \n",
      "__________________________________________________________________________________________________\n",
      "conv2d_26 (Conv2D)              (None, 32, 32, 128)  147584      activation_16[0][0]              \n",
      "__________________________________________________________________________________________________\n",
      "batch_normalization_21 (BatchNo (None, 32, 32, 128)  512         conv2d_27[0][0]                  \n",
      "__________________________________________________________________________________________________\n",
      "batch_normalization_20 (BatchNo (None, 32, 32, 128)  512         conv2d_26[0][0]                  \n",
      "__________________________________________________________________________________________________\n",
      "add_7 (Add)                     (None, 32, 32, 128)  0           batch_normalization_21[0][0]     \n",
      "                                                                 batch_normalization_20[0][0]     \n",
      "__________________________________________________________________________________________________\n",
      "activation_17 (Activation)      (None, 32, 32, 128)  0           add_7[0][0]                      \n",
      "__________________________________________________________________________________________________\n",
      "conv2d_28 (Conv2D)              (None, 32, 32, 64)   8256        activation_17[0][0]              \n",
      "__________________________________________________________________________________________________\n",
      "batch_normalization_22 (BatchNo (None, 32, 32, 64)   256         conv2d_28[0][0]                  \n",
      "__________________________________________________________________________________________________\n",
      "activation_18 (Activation)      (None, 32, 32, 64)   0           batch_normalization_22[0][0]     \n",
      "__________________________________________________________________________________________________\n",
      "conv2d_30 (Conv2D)              (None, 32, 32, 64)   4160        activation_18[0][0]              \n",
      "__________________________________________________________________________________________________\n",
      "conv2d_transpose_2 (Conv2DTrans (None, 32, 32, 64)   36928       conv2d_30[0][0]                  \n",
      "__________________________________________________________________________________________________\n",
      "conv2d_29 (Conv2D)              (None, 32, 32, 64)   16448       activation_1[0][0]               \n",
      "__________________________________________________________________________________________________\n",
      "add_8 (Add)                     (None, 32, 32, 64)   0           conv2d_transpose_2[0][0]         \n",
      "                                                                 conv2d_29[0][0]                  \n",
      "__________________________________________________________________________________________________\n",
      "activation_19 (Activation)      (None, 32, 32, 64)   0           add_8[0][0]                      \n",
      "__________________________________________________________________________________________________\n",
      "conv2d_31 (Conv2D)              (None, 32, 32, 1)    65          activation_19[0][0]              \n",
      "__________________________________________________________________________________________________\n",
      "activation_20 (Activation)      (None, 32, 32, 1)    0           conv2d_31[0][0]                  \n",
      "__________________________________________________________________________________________________\n",
      "up_sampling2d_4 (UpSampling2D)  (None, 64, 64, 1)    0           activation_20[0][0]              \n",
      "__________________________________________________________________________________________________\n",
      "lambda_2 (Lambda)               (None, 64, 64, 64)   0           up_sampling2d_4[0][0]            \n",
      "__________________________________________________________________________________________________\n",
      "multiply_2 (Multiply)           (None, 64, 64, 64)   0           lambda_2[0][0]                   \n",
      "                                                                 activation_1[0][0]               \n",
      "__________________________________________________________________________________________________\n",
      "conv2d_32 (Conv2D)              (None, 64, 64, 64)   4160        multiply_2[0][0]                 \n",
      "__________________________________________________________________________________________________\n",
      "up_sampling2d_5 (UpSampling2D)  (None, 64, 64, 128)  0           activation_17[0][0]              \n",
      "__________________________________________________________________________________________________\n",
      "batch_normalization_23 (BatchNo (None, 64, 64, 64)   256         conv2d_32[0][0]                  \n",
      "__________________________________________________________________________________________________\n",
      "concatenate_2 (Concatenate)     (None, 64, 64, 192)  0           up_sampling2d_5[0][0]            \n",
      "                                                                 batch_normalization_23[0][0]     \n",
      "__________________________________________________________________________________________________\n",
      "conv2d_33 (Conv2D)              (None, 64, 64, 64)   110656      concatenate_2[0][0]              \n",
      "__________________________________________________________________________________________________\n",
      "batch_normalization_24 (BatchNo (None, 64, 64, 64)   256         conv2d_33[0][0]                  \n",
      "__________________________________________________________________________________________________\n",
      "activation_21 (Activation)      (None, 64, 64, 64)   0           batch_normalization_24[0][0]     \n",
      "__________________________________________________________________________________________________\n",
      "conv2d_35 (Conv2D)              (None, 64, 64, 64)   12352       concatenate_2[0][0]              \n",
      "__________________________________________________________________________________________________\n",
      "conv2d_34 (Conv2D)              (None, 64, 64, 64)   36928       activation_21[0][0]              \n",
      "__________________________________________________________________________________________________\n",
      "batch_normalization_26 (BatchNo (None, 64, 64, 64)   256         conv2d_35[0][0]                  \n",
      "__________________________________________________________________________________________________\n",
      "batch_normalization_25 (BatchNo (None, 64, 64, 64)   256         conv2d_34[0][0]                  \n",
      "__________________________________________________________________________________________________\n",
      "add_9 (Add)                     (None, 64, 64, 64)   0           batch_normalization_26[0][0]     \n",
      "                                                                 batch_normalization_25[0][0]     \n",
      "__________________________________________________________________________________________________\n",
      "activation_22 (Activation)      (None, 64, 64, 64)   0           add_9[0][0]                      \n",
      "__________________________________________________________________________________________________\n",
      "conv2d_36 (Conv2D)              (None, 64, 64, 1)    65          activation_22[0][0]              \n",
      "__________________________________________________________________________________________________\n",
      "batch_normalization_27 (BatchNo (None, 64, 64, 1)    4           conv2d_36[0][0]                  \n",
      "__________________________________________________________________________________________________\n",
      "activation_23 (Activation)      (None, 64, 64, 1)    0           batch_normalization_27[0][0]     \n",
      "==================================================================================================\n",
      "Total params: 9,700,040\n",
      "Trainable params: 9,689,798\n",
      "Non-trainable params: 10,242\n",
      "__________________________________________________________________________________________________\n"
     ]
    }
   ],
   "source": [
    "model.summary()"
   ]
  },
  {
   "cell_type": "code",
   "execution_count": 11,
   "id": "600cc57e",
   "metadata": {},
   "outputs": [],
   "source": [
    "att_res_unet_model = Attention_ResUNet(input_shape)\n",
    "\n",
    "att_res_unet_model.compile(optimizer=Adam(lr = 1e-2), loss=tf.keras.losses.BinaryCrossentropy,\n",
    "              metrics=['accuracy', jacard_coef])"
   ]
  },
  {
   "cell_type": "markdown",
   "id": "1f2c7c1c",
   "metadata": {},
   "source": [
    "### 3. Load data\n",
    "\n",
    "The images are stored in multiple directories. The training images/inputs are stored in the 10k folder under train, test and val. The masks corrosponding to these images are stored in colormaps under train and val (in the 100k folder).\n",
    "\n",
    "**Folder paths for images**:\n",
    "* ./data/bdd100k_images_10k/bdd100k/images/10k/train\n",
    "* ./data/bdd100k_images_10k/bdd100k/images/10k/test\n",
    "* ./data/bdd100k_images_10k/bdd100k/images/10k/val\n",
    "</br>\n",
    "\n",
    "**Folder paths for masks**:\n",
    "* ./data/drivable_labels/bdd100k/labels/drivable/colormaps/train\n",
    "* ./data/drivable_labels/bdd100k/labels/drivable/colormaps/val\n",
    "</br></br>\n",
    "\n"
   ]
  },
  {
   "cell_type": "code",
   "execution_count": 12,
   "id": "c8f90167",
   "metadata": {},
   "outputs": [],
   "source": [
    "image_paths = os.listdir('./data/bdd100k_images_10k/bdd100k/images/10k/train')\n",
    "image_paths += os.listdir('./data/bdd100k_images_10k/bdd100k/images/10k/test')\n",
    "image_paths += os.listdir('./data/bdd100k_images_10k/bdd100k/images/10k/val')"
   ]
  },
  {
   "cell_type": "code",
   "execution_count": 13,
   "id": "94b7c2db",
   "metadata": {},
   "outputs": [],
   "source": [
    "image_paths = [i.split('.')[0] for i in image_paths]"
   ]
  },
  {
   "cell_type": "code",
   "execution_count": 14,
   "id": "971ac841",
   "metadata": {},
   "outputs": [],
   "source": [
    "train_labels = os.listdir('./data/drivable_labels/bdd100k/labels/drivable/colormaps/train')\n",
    "train_labels += os.listdir('./data/drivable_labels/bdd100k/labels/drivable/colormaps/val')"
   ]
  },
  {
   "cell_type": "code",
   "execution_count": 15,
   "id": "6584e645",
   "metadata": {},
   "outputs": [],
   "source": [
    "train_labels = [i.split('.')[0] for i in train_labels]"
   ]
  },
  {
   "cell_type": "code",
   "execution_count": 16,
   "id": "9cb1675d",
   "metadata": {},
   "outputs": [
    {
     "name": "stdout",
     "output_type": "stream",
     "text": [
      "00054602-3bf57337\n",
      "count =  1\n"
     ]
    }
   ],
   "source": [
    "count = 0\n",
    "for i in image_paths:\n",
    "    if i not in train_labels:\n",
    "        count += 1\n",
    "    else:\n",
    "        print(i)\n",
    "        break\n",
    "\n",
    "print(\"count = \", count)"
   ]
  },
  {
   "cell_type": "code",
   "execution_count": 17,
   "id": "5f5f145a",
   "metadata": {},
   "outputs": [],
   "source": [
    "import cv2"
   ]
  },
  {
   "cell_type": "code",
   "execution_count": 18,
   "id": "941c5a25",
   "metadata": {},
   "outputs": [],
   "source": [
    "core = cv2.imread('./data/bdd100k_images_10k/bdd100k/images/10k/train/00054602-3bf57337.jpg')"
   ]
  },
  {
   "cell_type": "code",
   "execution_count": 132,
   "id": "d010e7a3",
   "metadata": {},
   "outputs": [],
   "source": [
    "img = cv2.imread('./data/drivable_labels/bdd100k/labels/drivable/colormaps/train/00054602-3bf57337.png')"
   ]
  },
  {
   "cell_type": "code",
   "execution_count": 133,
   "id": "623fd346",
   "metadata": {},
   "outputs": [],
   "source": [
    "img = cv2.cvtColor(img, cv2.COLOR_BGR2GRAY)"
   ]
  },
  {
   "cell_type": "code",
   "execution_count": 21,
   "id": "ce70be30",
   "metadata": {},
   "outputs": [
    {
     "data": {
      "image/png": "[encoded data removed]",
      "text/plain": [
       "<Figure size 864x432 with 2 Axes>"
      ]
     },
     "metadata": {
      "needs_background": "light"
     },
     "output_type": "display_data"
    }
   ],
   "source": [
    "plt.figure(figsize=(12, 6))\n",
    "plt.subplot(121)\n",
    "plt.imshow(img, cmap='gray')\n",
    "plt.subplot(122)\n",
    "plt.imshow(core)\n",
    "plt.show()"
   ]
  },
  {
   "cell_type": "code",
   "execution_count": 22,
   "id": "45dfa457",
   "metadata": {},
   "outputs": [],
   "source": [
    "from tensorflow.keras.utils import Sequence"
   ]
  },
  {
   "cell_type": "code",
   "execution_count": 25,
   "id": "f8cd451d",
   "metadata": {},
   "outputs": [],
   "source": [
    "import glob"
   ]
  },
  {
   "cell_type": "code",
   "execution_count": 43,
   "id": "72e763a0",
   "metadata": {},
   "outputs": [],
   "source": [
    "train_paths = glob.glob(f\"{os.path.join('./data/bdd100k_images_10k/bdd100k/images/10k', 'train')}/*.jpg\")\n",
    "train_paths += glob.glob(f\"{os.path.join('./data/bdd100k_images_10k/bdd100k/images/10k', 'test')}/*.jpg\")\n",
    "train_paths += glob.glob(f\"{os.path.join('./data/bdd100k_images_10k/bdd100k/images/10k', 'val')}/*.jpg\")"
   ]
  },
  {
   "cell_type": "code",
   "execution_count": null,
   "id": "c8eaa9a7",
   "metadata": {},
   "outputs": [],
   "source": [
    "train_paths = [i.split('.jpg')[0] for i in train_paths]"
   ]
  },
  {
   "cell_type": "code",
   "execution_count": 53,
   "id": "f791a5d1",
   "metadata": {},
   "outputs": [],
   "source": [
    "ids = [train_paths[i].split('\\\\')[-1] for i in range(len(train_paths))]"
   ]
  },
  {
   "cell_type": "code",
   "execution_count": 78,
   "id": "1b95b8fd",
   "metadata": {},
   "outputs": [],
   "source": [
    "test_paths = glob.glob(f\"{os.path.join('./data/drivable_labels/bdd100k/labels/drivable/colormaps', 'train')}/*.png\")\n",
    "test_paths += glob.glob(f\"{os.path.join('./data/drivable_labels/bdd100k/labels/drivable/colormaps', 'val')}/*.png\")"
   ]
  },
  {
   "cell_type": "code",
   "execution_count": 80,
   "id": "d4925e5a",
   "metadata": {},
   "outputs": [],
   "source": [
    "test_paths = [i.split('.png')[0] for i in test_paths]"
   ]
  },
  {
   "cell_type": "code",
   "execution_count": 82,
   "id": "1c87bba5",
   "metadata": {},
   "outputs": [],
   "source": [
    "valid_ids = [i for i in [*set([i.split('\\\\')[-1] for i in test_paths])] if i in ids]    "
   ]
  },
  {
   "cell_type": "code",
   "execution_count": null,
   "id": "6321dbfb",
   "metadata": {},
   "outputs": [],
   "source": [
    "test_paths = [i for i in test_paths if i.split('\\\\')[-1] in valid_ids]"
   ]
  },
  {
   "cell_type": "code",
   "execution_count": 85,
   "id": "2949f99a",
   "metadata": {},
   "outputs": [
    {
     "data": {
      "text/plain": [
       "3430"
      ]
     },
     "execution_count": 85,
     "metadata": {},
     "output_type": "execute_result"
    }
   ],
   "source": [
    "len(test_paths)"
   ]
  },
  {
   "cell_type": "code",
   "execution_count": 86,
   "id": "3c705ab9",
   "metadata": {},
   "outputs": [],
   "source": [
    "train_paths = [i for i in train_paths if i.split('\\\\')[-1] in valid_ids]"
   ]
  },
  {
   "cell_type": "code",
   "execution_count": 87,
   "id": "f3b2a57f",
   "metadata": {},
   "outputs": [
    {
     "data": {
      "text/plain": [
       "3430"
      ]
     },
     "execution_count": 87,
     "metadata": {},
     "output_type": "execute_result"
    }
   ],
   "source": [
    "len(train_paths)"
   ]
  },
  {
   "cell_type": "code",
   "execution_count": 94,
   "id": "6819f697",
   "metadata": {},
   "outputs": [],
   "source": [
    "def keyFunc(x):\n",
    "    return x.split('\\\\')[-1]"
   ]
  },
  {
   "cell_type": "code",
   "execution_count": 95,
   "id": "4efd1770",
   "metadata": {},
   "outputs": [],
   "source": [
    "train_paths.sort(key = keyFunc)"
   ]
  },
  {
   "cell_type": "code",
   "execution_count": 96,
   "id": "f5b5f70e",
   "metadata": {},
   "outputs": [],
   "source": [
    "test_paths.sort(key = keyFunc)"
   ]
  },
  {
   "cell_type": "code",
   "execution_count": 97,
   "id": "ec8ff798",
   "metadata": {},
   "outputs": [
    {
     "name": "stdout",
     "output_type": "stream",
     "text": [
      "0\n"
     ]
    }
   ],
   "source": [
    "count = 0\n",
    "for idx, i in enumerate(train_paths):\n",
    "    if test_paths[idx].split('\\\\')[-1] != i.split('\\\\')[-1]:\n",
    "        count += 1\n",
    "print(count)"
   ]
  },
  {
   "cell_type": "code",
   "execution_count": 99,
   "id": "f8775e21",
   "metadata": {},
   "outputs": [
    {
     "data": {
      "text/plain": [
       "'./data/drivable_labels/bdd100k/labels/drivable/colormaps\\\\train\\\\00054602-3bf57337'"
      ]
     },
     "execution_count": 99,
     "metadata": {},
     "output_type": "execute_result"
    }
   ],
   "source": [
    "test_paths[0]"
   ]
  },
  {
   "cell_type": "code",
   "execution_count": 100,
   "id": "bf8230ba",
   "metadata": {},
   "outputs": [
    {
     "data": {
      "text/plain": [
       "'./data/bdd100k_images_10k/bdd100k/images/10k\\\\train\\\\00054602-3bf57337'"
      ]
     },
     "execution_count": 100,
     "metadata": {},
     "output_type": "execute_result"
    }
   ],
   "source": [
    "train_paths[0]"
   ]
  },
  {
   "cell_type": "code",
   "execution_count": 152,
   "id": "2710d594",
   "metadata": {},
   "outputs": [],
   "source": [
    "class LoadData(Sequence):\n",
    "    def __init__(self, trainPaths, testPaths, batchSize):       \n",
    "        self.trainPaths = trainPaths\n",
    "        self.testPaths = testPaths\n",
    "        self.batchSize = batchSize\n",
    "    \n",
    "    def __len__(self):\n",
    "        return int(np.ceil(len(self.trainPaths)/self.batchSize))\n",
    "    \n",
    "    def readImage(self, path):\n",
    "        '''\n",
    "        INPUTS:\n",
    "            path: the file path to the image that we need to read\n",
    "            \n",
    "        OUTPUTS:\n",
    "            we read the image in the given path and normalize it by dividing it by 255.0\n",
    "        '''\n",
    "        return cv2.imread(path)/255.0\n",
    "    \n",
    "    def grayScale(self, image):\n",
    "        image *= 255.0 \n",
    "        grayValue = 0.07 * image[:,:,2] + 0.72 * image[:,:,1] + 0.21 * image[:,:,0]\n",
    "        gray_img = grayValue.astype(np.uint8)\n",
    "        return gray_img\n",
    "    \n",
    "    def __getitem__(self, idx):\n",
    "        x_paths = self.trainPaths[idx * self.batchSize : (idx + 1) * self.batchSize]\n",
    "        y_paths = self.testPaths[idx * self.batchSize : (idx + 1) *self.batchSize]\n",
    "        \n",
    "        x_paths = [i + '.jpg' for i in x_paths]\n",
    "        y_paths = [i + '.png' for i in y_paths]\n",
    "        \n",
    "        print(y_paths[0])\n",
    "        \n",
    "        x = np.array(list(map(self.readImage, x_paths)))\n",
    "        y = np.array(list(map(self.readImage, y_paths)))\n",
    "        y = np.array(list(map(self.grayScale, y)))\n",
    "               \n",
    "        return x, y\n",
    "        "
   ]
  },
  {
   "cell_type": "code",
   "execution_count": 153,
   "id": "3a96d76d",
   "metadata": {},
   "outputs": [],
   "source": [
    "testing = LoadData(train_paths, test_paths, 4).__iter__()"
   ]
  },
  {
   "cell_type": "code",
   "execution_count": 154,
   "id": "a1edd33a",
   "metadata": {},
   "outputs": [
    {
     "name": "stdout",
     "output_type": "stream",
     "text": [
      "./data/drivable_labels/bdd100k/labels/drivable/colormaps\\train\\00054602-3bf57337.png\n",
      "(4, 720, 1280, 3)\n",
      "(4, 720, 1280)\n"
     ]
    }
   ],
   "source": [
    "for i, j in testing:\n",
    "    print(i.shape)\n",
    "    print(j.shape)\n",
    "    break"
   ]
  },
  {
   "cell_type": "code",
   "execution_count": 143,
   "id": "e104cfca",
   "metadata": {},
   "outputs": [
    {
     "data": {
      "text/plain": [
       "(720, 1280, 3)"
      ]
     },
     "execution_count": 143,
     "metadata": {},
     "output_type": "execute_result"
    }
   ],
   "source": [
    "j[0].shape"
   ]
  },
  {
   "cell_type": "code",
   "execution_count": 155,
   "id": "ac6cc70d",
   "metadata": {},
   "outputs": [
    {
     "data": {
      "text/plain": [
       "<matplotlib.image.AxesImage at 0x17496a35fa0>"
      ]
     },
     "execution_count": 155,
     "metadata": {},
     "output_type": "execute_result"
    },
    {
     "data": {
      "image/png": "[encoded data removed]",
      "text/plain": [
       "<Figure size 432x288 with 1 Axes>"
      ]
     },
     "metadata": {
      "needs_background": "light"
     },
     "output_type": "display_data"
    }
   ],
   "source": [
    "plt.imshow(j[0], cmap='gray')"
   ]
  },
  {
   "cell_type": "markdown",
   "id": "9ab8d125",
   "metadata": {},
   "source": [
    "### 4. Training"
   ]
  },
  {
   "cell_type": "code",
   "execution_count": null,
   "id": "63e334aa",
   "metadata": {},
   "outputs": [],
   "source": [
    "def apply_gradient(optimizer, model, loss_fn, x, y):\n",
    "    losses = []\n",
    "    with tf.GradientTape() as tape:\n",
    "        logits = model(x)\n",
    "#         loss_value = loss_fn(prediction = logits[0], target = y[0], anchors = anchors[0]\n",
    "#                             ) + loss_fn(prediction = logits[1], target = y[1], anchors = anchors[1]\n",
    "#                                        ) + loss_fn(prediction = logits[2], target = y[2], anchors = anchors[2])\n",
    "\n",
    "        loss_value = 0 # add a loss function here\n",
    "        \n",
    "    gradients = tape.gradient(loss_value, model.trainable_weights)\n",
    "    optimizer.apply_gradients(zip(gradients, model.trainable_weights))\n",
    "\n",
    "    loss_value = np.mean(loss_value)\n",
    "    return loss_value"
   ]
  },
  {
   "cell_type": "code",
   "execution_count": null,
   "id": "f527cb17",
   "metadata": {},
   "outputs": [],
   "source": [
    "def train_fn(train_loader, model, optimizer, loss_fn):\n",
    "    loop = tqdm(train_loader, leave=True)\n",
    "    losses = []\n",
    "    for batch_idx, (x, y) in enumerate(loop):\n",
    "\n",
    "        losses.append(apply_gradient(optimizer, model, RUNLoss(), x, y))\n",
    "\n",
    "        # update progress bar\n",
    "        mean_loss = sum(losses) / len(losses)\n",
    "        loop.set_postfix(loss=mean_loss)"
   ]
  },
  {
   "cell_type": "code",
   "execution_count": null,
   "id": "7d3b3e3d",
   "metadata": {},
   "outputs": [],
   "source": [
    "def main(EPOCHS):\n",
    "    model = Attention_ResUNet(input_shape = (720, 1280, 3))\n",
    "    \n",
    "    optimizer = tf.keras.optimizers.Adam(\n",
    "        learning_rate = config.LEARNING_RATE\n",
    "    )\n",
    "    \n",
    "    loss_fn = tf.keras.losses.BinaryCrossentropy()\n",
    "        \n",
    "    train_dataloader = LoadData(train_paths, test_paths, 64).__iter__()\n",
    "    \n",
    "    for epoch in range(EPOCHS):\n",
    "        train_fn(train_dataloader, model, optimizer, loss_fn, scaled_anchors)\n",
    "\n",
    "    return model"
   ]
  },
  {
   "cell_type": "markdown",
   "id": "eceafc18",
   "metadata": {},
   "source": [
    "### 5. Testing"
   ]
  },
  {
   "cell_type": "code",
   "execution_count": null,
   "id": "3e58bb5e",
   "metadata": {},
   "outputs": [],
   "source": [
    "model_path = \"models/RA_Unet.hdf5\"\n",
    "\n",
    "model = tf.keras.models.load_model(model_path, compile=False)"
   ]
  },
  {
   "cell_type": "code",
   "execution_count": null,
   "id": "584456ad",
   "metadata": {},
   "outputs": [],
   "source": [
    "test_img_number = random.randint(0, X_test.shape[0]-1)\n",
    "test_img = X_test[test_img_number]\n",
    "ground_truth=y_test[test_img_number]\n",
    "\n",
    "test_img_input=np.expand_dims(test_img, 0)\n",
    "prediction = (model.predict(test_img_input)[0,:,:,0] > 0.5).astype(np.uint8)"
   ]
  },
  {
   "cell_type": "code",
   "execution_count": null,
   "id": "01113cfd",
   "metadata": {},
   "outputs": [],
   "source": [
    "plt.figure(figsize=(16, 8))\n",
    "plt.subplot(231)\n",
    "plt.title('Testing Image')\n",
    "plt.imshow(test_img, cmap='gray')\n",
    "plt.subplot(232)\n",
    "plt.title('Testing Label')\n",
    "plt.imshow(ground_truth[:,:,0], cmap='gray')\n",
    "plt.subplot(233)\n",
    "plt.title('Prediction on test image')\n",
    "plt.imshow(prediction, cmap='gray')\n",
    "\n",
    "plt.show()"
   ]
  },
  {
   "cell_type": "code",
   "execution_count": null,
   "id": "2a2e1842",
   "metadata": {},
   "outputs": [],
   "source": [
    "n_classes = 2\n",
    "IOU_keras = MeanIoU(num_classes=n_classes)  \n",
    "IOU_keras.update_state(ground_truth[:,:,0], prediction)\n",
    "print(\"Mean IoU =\", IOU_keras.result().numpy())"
   ]
  },
  {
   "cell_type": "code",
   "execution_count": null,
   "id": "21be4bd4",
   "metadata": {},
   "outputs": [],
   "source": [
    "IoU_values = []\n",
    "\n",
    "for img in range(0, X_test.shape[0]):\n",
    "    temp_img = X_test[img]\n",
    "    ground_truth=y_test[img]\n",
    "    temp_img_input=np.expand_dims(temp_img, 0)\n",
    "    prediction = (model.predict(temp_img_input)[0,:,:,0] > 0.5).astype(np.uint8)\n",
    "    \n",
    "    IoU = MeanIoU(num_classes=n_classes)\n",
    "    IoU.update_state(ground_truth[:,:,0], prediction)\n",
    "    IoU = IoU.result().numpy()\n",
    "    IoU_values.append(IoU)\n",
    "\n",
    "    print(IoU)"
   ]
  },
  {
   "cell_type": "code",
   "execution_count": null,
   "id": "5b923d9a",
   "metadata": {},
   "outputs": [],
   "source": [
    "df = pd.DataFrame(IoU_values, columns=[\"IoU\"])\n",
    "df = df[df.IoU != 1.0]    \n",
    "mean_IoU = df.mean().values\n",
    "print(\"Mean IoU is: \", mean_IoU)    "
   ]
  }
 ],
 "metadata": {
  "kernelspec": {
   "display_name": "Python 3.8.13 ('torch-gpu')",
   "language": "python",
   "name": "python3"
  },
  "language_info": {
   "codemirror_mode": {
    "name": "ipython",
    "version": 3
   },
   "file_extension": ".py",
   "mimetype": "text/x-python",
   "name": "python",
   "nbconvert_exporter": "python",
   "pygments_lexer": "ipython3",
   "version": "3.8.13"
  },
  "vscode": {
   "interpreter": {
    "hash": "ea9ceb0b7e3f457d29129ad6ad6d3750fd1ab50a0da3c37c2bb5b7c85d56784f"
   }
  }
 },
 "nbformat": 4,
 "nbformat_minor": 5
}
